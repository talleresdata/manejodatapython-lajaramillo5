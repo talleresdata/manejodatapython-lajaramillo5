{
 "cells": [
  {
   "cell_type": "code",
   "execution_count": 2,
   "metadata": {},
   "outputs": [],
   "source": [
    "import pandas as pd\n",
    "import matplotlib\n",
    "import numpy as np\n",
    "import matplotlib.pyplot as plt\n",
    "%matplotlib inline  \n"
   ]
  },
  {
   "cell_type": "code",
   "execution_count": 4,
   "metadata": {},
   "outputs": [
    {
     "name": "stdout",
     "output_type": "stream",
     "text": [
      "\u001b[0m\u001b[01;34mdata\u001b[0m/                    Ejemplo-Pandas-05.ipynb  Ejemplo-Pandas-08.ipynb\r\n",
      "Ejemplo-Pandas-03.ipynb  Ejemplo-Pandas-06.ipynb  \u001b[01;32mEjemplo-Pandas-09.ipynb\u001b[0m*\r\n",
      "Ejemplo-Pandas-04.ipynb  Ejemplo-Pandas-07.ipynb  \u001b[01;34mnotebook-py3\u001b[0m/\r\n"
     ]
    }
   ],
   "source": [
    "ls"
   ]
  },
  {
   "cell_type": "code",
   "execution_count": 5,
   "metadata": {},
   "outputs": [],
   "source": [
    "archivo = open('data/log-course.txt', 'r')\n",
    "\n",
    "lineas = archivo.readlines()\n"
   ]
  },
  {
   "cell_type": "code",
   "execution_count": 6,
   "metadata": {},
   "outputs": [],
   "source": [
    "cadena = lineas[0]"
   ]
  },
  {
   "cell_type": "code",
   "execution_count": 7,
   "metadata": {},
   "outputs": [
    {
     "name": "stdout",
     "output_type": "stream",
     "text": [
      "{\"username\": \"\", \"event_type\": \"/courses/course-v1:UTPL+SARH5+2019_1/about\", \"ip\": \"77.111.247.82\", \"agent\": \"Mozilla/5.0 (Windows NT 6.1; WOW64) AppleWebKit/537.36 (KHTML, like Gecko) Chrome/71.0.3578.98 Safari/537.36 OPR/58.0.3135.127\", \"host\": \"opencampus.utpl.edu.ec\", \"referer\": \"\", \"accept_language\": \"es-ES,es;q=0.9\", \"event\": \"{\\\"POST\\\": {}, \\\"GET\\\": {}}\", \"event_source\": \"server\", \"context\": {\"course_user_tags\": {}, \"user_id\": \"\", \"org_id\": \"UTPL\", \"course_id\": \"course-v1:UTPL+SARH5+2019_1\", \"path\": \"/courses/course-v1:UTPL+SARH5+2019_1/about\"}, \"time\": \"2019-04-01T04:28:26.189835+00:00\", \"page\": null}\n",
      "\n"
     ]
    }
   ],
   "source": [
    "print cadena"
   ]
  },
  {
   "cell_type": "code",
   "execution_count": 8,
   "metadata": {},
   "outputs": [],
   "source": [
    "lista = []\n",
    "import json\n",
    "for l in lineas:\n",
    "    try:\n",
    "        cadena1 = json.loads(l)\n",
    "        diccionario_context = cadena1['context']\n",
    "        for d in diccionario_context.keys():\n",
    "            cadena1[\"context_%s\" % d] = diccionario_context[d]\n",
    "            # print cadena1['event']\n",
    "        lista.append(cadena1)\n",
    "    except:\n",
    "        print l"
   ]
  },
  {
   "cell_type": "code",
   "execution_count": 9,
   "metadata": {},
   "outputs": [],
   "source": [
    "data = pd.DataFrame(lista)"
   ]
  },
  {
   "cell_type": "code",
   "execution_count": 10,
   "metadata": {},
   "outputs": [
    {
     "data": {
      "text/plain": [
       "(51262, 20)"
      ]
     },
     "execution_count": 10,
     "metadata": {},
     "output_type": "execute_result"
    }
   ],
   "source": [
    "data.shape"
   ]
  },
  {
   "cell_type": "code",
   "execution_count": 11,
   "metadata": {},
   "outputs": [
    {
     "data": {
      "text/plain": [
       "Index([u'accept_language', u'agent', u'context', u'context_course_id',\n",
       "       u'context_course_user_tags', u'context_module', u'context_org_id',\n",
       "       u'context_path', u'context_user_id', u'event', u'event_source',\n",
       "       u'event_type', u'host', u'ip', u'name', u'page', u'referer', u'session',\n",
       "       u'time', u'username'],\n",
       "      dtype='object')"
      ]
     },
     "execution_count": 11,
     "metadata": {},
     "output_type": "execute_result"
    }
   ],
   "source": [
    "data.keys()"
   ]
  },
  {
   "cell_type": "code",
   "execution_count": 12,
   "metadata": {},
   "outputs": [],
   "source": [
    "data['time2']= pd.to_datetime(data['time']) \n",
    "\n",
    "# data.time2\n"
   ]
  },
  {
   "cell_type": "code",
   "execution_count": 13,
   "metadata": {},
   "outputs": [],
   "source": [
    "data[\"time3\"] = data[\"time2\"].apply(lambda x: \"%s-%s-%s\" % (x.year, x.month, x.day))\n",
    "data['time3']= pd.to_datetime(data['time3']) \n"
   ]
  },
  {
   "cell_type": "code",
   "execution_count": 14,
   "metadata": {},
   "outputs": [],
   "source": [
    "# data[\"time3\"]"
   ]
  },
  {
   "cell_type": "code",
   "execution_count": 15,
   "metadata": {},
   "outputs": [
    {
     "data": {
      "text/plain": [
       "time3\n",
       "2019-04-01     319\n",
       "2019-04-02     334\n",
       "2019-04-03     381\n",
       "2019-04-04     276\n",
       "2019-04-05     221\n",
       "2019-04-06     141\n",
       "2019-04-07     113\n",
       "2019-04-08     241\n",
       "2019-04-09     264\n",
       "2019-04-10     176\n",
       "2019-04-11     293\n",
       "2019-04-12     285\n",
       "2019-04-13     231\n",
       "2019-04-14     388\n",
       "2019-04-15    1236\n",
       "2019-04-16     467\n",
       "2019-04-17     193\n",
       "2019-04-18     123\n",
       "2019-04-19      65\n",
       "2019-04-20      58\n",
       "2019-04-21     124\n",
       "2019-04-22     154\n",
       "2019-04-23     262\n",
       "2019-04-24     160\n",
       "2019-04-25      93\n",
       "2019-04-26     408\n",
       "2019-04-27     124\n",
       "2019-04-28      62\n",
       "2019-04-29     149\n",
       "2019-04-30     107\n",
       "2019-05-01      69\n",
       "2019-05-02     127\n",
       "2019-05-03      70\n",
       "2019-05-04      39\n",
       "2019-05-05      80\n",
       "2019-05-06    5797\n",
       "2019-05-07    6991\n",
       "2019-05-08    4721\n",
       "2019-05-09    4049\n",
       "2019-05-10    3083\n",
       "2019-05-11    3168\n",
       "2019-05-12    6444\n",
       "2019-05-13    5505\n",
       "2019-05-14    3671\n",
       "dtype: int64"
      ]
     },
     "execution_count": 15,
     "metadata": {},
     "output_type": "execute_result"
    }
   ],
   "source": [
    "data.groupby(\"time3\").size()"
   ]
  },
  {
   "cell_type": "code",
   "execution_count": 16,
   "metadata": {},
   "outputs": [
    {
     "data": {
      "text/plain": [
       "<matplotlib.axes._subplots.AxesSubplot at 0x7fe5f6261dd0>"
      ]
     },
     "execution_count": 16,
     "metadata": {},
     "output_type": "execute_result"
    },
    {
     "data": {
      "image/png": "[encoded data removed]",
      "text/plain": [
       "<matplotlib.figure.Figure at 0x7fe629707290>"
      ]
     },
     "metadata": {
      "needs_background": "light"
     },
     "output_type": "display_data"
    }
   ],
   "source": [
    "## ejemplo data1= data\n",
    "\n",
    "data1 = data\n",
    "# data1.set_index('Date', inplace=True)\n",
    "# data['adj_close'].plot()\n",
    "\n",
    "data1.groupby('time3').size().plot()\n"
   ]
  },
  {
   "cell_type": "code",
   "execution_count": null,
   "metadata": {},
   "outputs": [],
   "source": []
  }
 ],
 "metadata": {
  "kernelspec": {
   "display_name": "Python 3",
   "language": "python",
   "name": "python3"
  },
  "language_info": {
   "codemirror_mode": {
    "name": "ipython",
    "version": 3
   },
   "file_extension": ".py",
   "mimetype": "text/x-python",
   "name": "python",
   "nbconvert_exporter": "python",
   "pygments_lexer": "ipython3",
   "version": "3.7.3"
  }
 },
 "nbformat": 4,
 "nbformat_minor": 2
}
